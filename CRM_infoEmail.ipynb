{
 "cells": [
  {
   "cell_type": "code",
   "execution_count": 1,
   "metadata": {
    "executionInfo": {
     "elapsed": 2095,
     "status": "ok",
     "timestamp": 1609939643688,
     "user": {
      "displayName": "Wichukorn Kuntintara",
      "photoUrl": "https://lh3.googleusercontent.com/a-/AOh14GiODw4YMtFUlDN4GB7exC9p-szld6dK24uCm3ilxQ=s64",
      "userId": "08761270329044253855"
     },
     "user_tz": -420
    },
    "id": "RnBoE5xn0K43"
   },
   "outputs": [],
   "source": [
    "import yagmail"
   ]
  },
  {
   "cell_type": "code",
   "execution_count": 3,
   "metadata": {},
   "outputs": [],
   "source": [
    "sub=\"การคำนวณประสิทธิภาพหม้อน้ำ\""
   ]
  },
  {
   "cell_type": "code",
   "execution_count": 18,
   "metadata": {
    "executionInfo": {
     "elapsed": 794,
     "status": "ok",
     "timestamp": 1609939652355,
     "user": {
      "displayName": "Wichukorn Kuntintara",
      "photoUrl": "https://lh3.googleusercontent.com/a-/AOh14GiODw4YMtFUlDN4GB7exC9p-szld6dK24uCm3ilxQ=s64",
      "userId": "08761270329044253855"
     },
     "user_tz": -420
    },
    "id": "uGxkebF850ux"
   },
   "outputs": [],
   "source": [
    "begin_con=\"\"\"เรียน ท่านผู้สนใจในการอนุรักษ์พลังงาน\n",
    "\n",
    "\"\"\""
   ]
  },
  {
   "cell_type": "code",
   "execution_count": 5,
   "metadata": {},
   "outputs": [],
   "source": [
    "end_con=\"\"\"\n",
    "\n",
    "ด้วยความเคารพอย่างสูง\n",
    "บริษัท เบสท์เอ็น จำกัด\n",
    "ที่ปรึกษาโครงการพัฒนาและสาธิตการใช้เกณฑ์มาตรฐานประสิทธิภาพการใช้พลังงาน ฯ\n",
    "\n",
    "\n",
    "ยกเลิกการรับความรู้ด้านการอนุรักษ์พลังงาน\n",
    "\"\"\""
   ]
  },
  {
   "cell_type": "code",
   "execution_count": 6,
   "metadata": {},
   "outputs": [],
   "source": [
    "cancel_sub=\"https://docs.google.com/forms/d/e/1FAIpQLSdVUL034BzDnu8fmz-mmPKpRe91bUCKx2o9s7uKGYCl8ecAIQ/viewform?usp=pp_url&entry.1021080322=\""
   ]
  },
  {
   "cell_type": "code",
   "execution_count": 9,
   "metadata": {},
   "outputs": [],
   "source": [
    "body_pic=yagmail.inline(\"DirectEffBoiler.png\")"
   ]
  },
  {
   "cell_type": "code",
   "execution_count": 10,
   "metadata": {
    "executionInfo": {
     "elapsed": 1219,
     "status": "ok",
     "timestamp": 1609939655929,
     "user": {
      "displayName": "Wichukorn Kuntintara",
      "photoUrl": "https://lh3.googleusercontent.com/a-/AOh14GiODw4YMtFUlDN4GB7exC9p-szld6dK24uCm3ilxQ=s64",
      "userId": "08761270329044253855"
     },
     "user_tz": -420
    },
    "id": "wKQiPVuns_8Y"
   },
   "outputs": [],
   "source": [
    "MY_ADDRESS='thermal.eff.standard@gmail.com'\n",
    "PASSWORD='BestenThermal'\n",
    "yag=yagmail.SMTP(user=MY_ADDRESS, password=PASSWORD)"
   ]
  },
  {
   "cell_type": "code",
   "execution_count": 11,
   "metadata": {
    "id": "FO4c9CqoxVod"
   },
   "outputs": [],
   "source": [
    "email_test=[\"wichukorn.ku@outlook.com\",\"wichukornkuntintara@gmail.com\"]"
   ]
  },
  {
   "cell_type": "code",
   "execution_count": 19,
   "metadata": {
    "colab": {
     "base_uri": "https://localhost:8080/"
    },
    "executionInfo": {
     "elapsed": 4074,
     "status": "ok",
     "timestamp": 1609904867340,
     "user": {
      "displayName": "พิริยะ เผ่าก่อเกียรติกุล",
      "photoUrl": "https://lh3.googleusercontent.com/a-/AOh14Gick-IU6L9ohHTXB9XCP5C2gOhPoVFX4TZR_BDB=s64",
      "userId": "18418855613522648917"
     },
     "user_tz": -420
    },
    "id": "rihZ1S3AyC-Z",
    "outputId": "a5c3d2cd-d85b-4a95-cfb9-3b9ae46267d0"
   },
   "outputs": [
    {
     "name": "stdout",
     "output_type": "stream",
     "text": [
      "wichukorn.ku@outlook.com\n",
      "Email sent successfully\n",
      "wichukornkuntintara@gmail.com\n",
      "Email sent successfully\n"
     ]
    }
   ],
   "source": [
    "for email in email_test:\n",
    "  print(email)\n",
    "  try:\n",
    "    cancel_link=cancel_sub+email\n",
    "    yag.send(to=email, subject=sub, contents=[begin_con,body_pic,end_con,cancel_link])\n",
    "    print(\"Email sent successfully\")\n",
    "  except:\n",
    "    print(\"Error, email was not sent\")"
   ]
  }
 ],
 "metadata": {
  "colab": {
   "name": "CRM_apologizeEmail.ipynb",
   "provenance": []
  },
  "kernelspec": {
   "display_name": "Python 3",
   "language": "python",
   "name": "python3"
  },
  "language_info": {
   "codemirror_mode": {
    "name": "ipython",
    "version": 3
   },
   "file_extension": ".py",
   "mimetype": "text/x-python",
   "name": "python",
   "nbconvert_exporter": "python",
   "pygments_lexer": "ipython3",
   "version": "3.8.5"
  }
 },
 "nbformat": 4,
 "nbformat_minor": 4
}
