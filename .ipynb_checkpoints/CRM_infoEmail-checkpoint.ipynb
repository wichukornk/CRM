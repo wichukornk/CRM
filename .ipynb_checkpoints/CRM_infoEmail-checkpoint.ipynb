{
 "cells": [
  {
   "cell_type": "code",
   "execution_count": 12,
   "metadata": {
    "executionInfo": {
     "elapsed": 2095,
     "status": "ok",
     "timestamp": 1609939643688,
     "user": {
      "displayName": "Wichukorn Kuntintara",
      "photoUrl": "https://lh3.googleusercontent.com/a-/AOh14GiODw4YMtFUlDN4GB7exC9p-szld6dK24uCm3ilxQ=s64",
      "userId": "08761270329044253855"
     },
     "user_tz": -420
    },
    "id": "RnBoE5xn0K43"
   },
   "outputs": [],
   "source": [
    "import yagmail\n",
    "import pandas as pd"
   ]
  },
  {
   "cell_type": "markdown",
   "metadata": {},
   "source": [
    "## Create content"
   ]
  },
  {
   "cell_type": "code",
   "execution_count": 2,
   "metadata": {},
   "outputs": [],
   "source": [
    "sub=\"การคำนวณความร้อนสูญเสียทางปล่อง\""
   ]
  },
  {
   "cell_type": "code",
   "execution_count": 3,
   "metadata": {
    "executionInfo": {
     "elapsed": 794,
     "status": "ok",
     "timestamp": 1609939652355,
     "user": {
      "displayName": "Wichukorn Kuntintara",
      "photoUrl": "https://lh3.googleusercontent.com/a-/AOh14GiODw4YMtFUlDN4GB7exC9p-szld6dK24uCm3ilxQ=s64",
      "userId": "08761270329044253855"
     },
     "user_tz": -420
    },
    "id": "uGxkebF850ux"
   },
   "outputs": [],
   "source": [
    "begin_con=\"\"\"เรียน ท่านผู้สนใจในการอนุรักษ์พลังงาน\n",
    "\n",
    "\"\"\""
   ]
  },
  {
   "cell_type": "code",
   "execution_count": 4,
   "metadata": {},
   "outputs": [],
   "source": [
    "end_con=\"\"\"\n",
    "\n",
    "ด้วยความเคารพอย่างสูง\n",
    "บริษัท เบสท์เอ็น จำกัด\n",
    "ที่ปรึกษาโครงการพัฒนาและสาธิตการใช้เกณฑ์มาตรฐานประสิทธิภาพการใช้พลังงาน ฯ\n",
    "\n",
    "\n",
    "ยกเลิกการรับความรู้ด้านการอนุรักษ์พลังงาน\n",
    "\"\"\""
   ]
  },
  {
   "cell_type": "code",
   "execution_count": 5,
   "metadata": {},
   "outputs": [],
   "source": [
    "cancel_sub=\"https://docs.google.com/forms/d/e/1FAIpQLSdVUL034BzDnu8fmz-mmPKpRe91bUCKx2o9s7uKGYCl8ecAIQ/viewform?usp=pp_url&entry.1021080322=\""
   ]
  },
  {
   "cell_type": "code",
   "execution_count": 6,
   "metadata": {},
   "outputs": [],
   "source": [
    "body_pic=yagmail.inline(\"stackLoss.png\")"
   ]
  },
  {
   "cell_type": "code",
   "execution_count": 7,
   "metadata": {
    "executionInfo": {
     "elapsed": 1219,
     "status": "ok",
     "timestamp": 1609939655929,
     "user": {
      "displayName": "Wichukorn Kuntintara",
      "photoUrl": "https://lh3.googleusercontent.com/a-/AOh14GiODw4YMtFUlDN4GB7exC9p-szld6dK24uCm3ilxQ=s64",
      "userId": "08761270329044253855"
     },
     "user_tz": -420
    },
    "id": "wKQiPVuns_8Y"
   },
   "outputs": [],
   "source": [
    "MY_ADDRESS='thermal.eff.standard@gmail.com'\n",
    "PASSWORD='BestenThermal'\n",
    "yag=yagmail.SMTP(user=MY_ADDRESS, password=PASSWORD)"
   ]
  },
  {
   "cell_type": "markdown",
   "metadata": {},
   "source": [
    "## Testing"
   ]
  },
  {
   "cell_type": "code",
   "execution_count": 8,
   "metadata": {
    "id": "FO4c9CqoxVod"
   },
   "outputs": [],
   "source": [
    "emailTest=[\"wichukorn.ku@outlook.com\",\"wichukornkuntintara@gmail.com\"]"
   ]
  },
  {
   "cell_type": "code",
   "execution_count": 9,
   "metadata": {},
   "outputs": [],
   "source": [
    "emails=emailTest"
   ]
  },
  {
   "cell_type": "code",
   "execution_count": 10,
   "metadata": {},
   "outputs": [
    {
     "data": {
      "text/plain": [
       "['wichukorn.ku@outlook.com', 'wichukornkuntintara@gmail.com']"
      ]
     },
     "execution_count": 10,
     "metadata": {},
     "output_type": "execute_result"
    }
   ],
   "source": [
    "emails"
   ]
  },
  {
   "cell_type": "code",
   "execution_count": 11,
   "metadata": {
    "colab": {
     "base_uri": "https://localhost:8080/"
    },
    "executionInfo": {
     "elapsed": 4074,
     "status": "ok",
     "timestamp": 1609904867340,
     "user": {
      "displayName": "พิริยะ เผ่าก่อเกียรติกุล",
      "photoUrl": "https://lh3.googleusercontent.com/a-/AOh14Gick-IU6L9ohHTXB9XCP5C2gOhPoVFX4TZR_BDB=s64",
      "userId": "18418855613522648917"
     },
     "user_tz": -420
    },
    "id": "rihZ1S3AyC-Z",
    "outputId": "a5c3d2cd-d85b-4a95-cfb9-3b9ae46267d0"
   },
   "outputs": [
    {
     "name": "stdout",
     "output_type": "stream",
     "text": [
      "wichukorn.ku@outlook.com  Email sent successfully\n",
      "wichukornkuntintara@gmail.com  Email sent successfully\n"
     ]
    }
   ],
   "source": [
    "for email in emails:\n",
    "  try:\n",
    "    cancel_link=cancel_sub+email\n",
    "    yag.send(to=email, subject=sub, contents=[begin_con,body_pic,end_con,cancel_link])\n",
    "    print(email,\" Email sent successfully\")\n",
    "  except:\n",
    "    print(email,\" Error, email was not sent\")"
   ]
  },
  {
   "cell_type": "markdown",
   "metadata": {},
   "source": [
    "## Broardcast"
   ]
  },
  {
   "cell_type": "code",
   "execution_count": 15,
   "metadata": {},
   "outputs": [],
   "source": [
    "df=pd.read_csv(\"DB_PotentialCustomer.csv\")"
   ]
  },
  {
   "cell_type": "code",
   "execution_count": 17,
   "metadata": {},
   "outputs": [],
   "source": [
    "emails=df.loc[:,'CoorEmail'].to_list()"
   ]
  },
  {
   "cell_type": "code",
   "execution_count": 19,
   "metadata": {},
   "outputs": [
    {
     "data": {
      "text/plain": [
       "['sarawut.mpower@hotmail.com',\n",
       " 'piriya.paokorkeat@gmail.com',\n",
       " 'sirinet.ub@gmail.com',\n",
       " 'n.kitkasikorn@gmail.com',\n",
       " 'tossa.morakot@gmail.com']"
      ]
     },
     "execution_count": 19,
     "metadata": {},
     "output_type": "execute_result"
    }
   ],
   "source": [
    "emails[:5]"
   ]
  },
  {
   "cell_type": "code",
   "execution_count": 20,
   "metadata": {},
   "outputs": [
    {
     "name": "stdout",
     "output_type": "stream",
     "text": [
      "sarawut.mpower@hotmail.com  Email sent successfully\n",
      "piriya.paokorkeat@gmail.com  Email sent successfully\n",
      "sirinet.ub@gmail.com  Email sent successfully\n",
      "n.kitkasikorn@gmail.com  Email sent successfully\n",
      "tossa.morakot@gmail.com  Email sent successfully\n",
      "netchanokoil@hotmail.com  Email sent successfully\n",
      "wichukorn.ku@outlook.com  Email sent successfully\n",
      "mindkiattisuk@gmail.com  Email sent successfully\n",
      "chatchaponw@gmail.com  Email sent successfully\n",
      "surachata@betagro.com  Email sent successfully\n",
      "pongpanb@betagro.com  Email sent successfully\n",
      "sanae@yamaha-motor.co.th  Email sent successfully\n",
      "sunti_kanchana@hotmail.com  Email sent successfully\n",
      "sanya_ch@hotmail.com  Email sent successfully\n",
      "electric@inteqc.com  Email sent successfully\n",
      "tothsaphon@teijin-frontier.com  Email sent successfully\n",
      "naranun.pu@gmail.com  Email sent successfully\n",
      "bhasakorn.p@asm.co.th  Email sent successfully\n",
      "kittichai.boo@greensville.co.th  Email sent successfully\n",
      "manop.chamchui@thaiunion.com  Email sent successfully\n",
      "thawach.peetawattanakun@thaisanmiguel.com  Email sent successfully\n",
      "sumethi@betagro.com  Email sent successfully\n",
      "kitti.t@asianseafoods.co.th  Email sent successfully\n",
      "nakarin-ktis@hotmail.com  Email sent successfully\n",
      "noramon@ams-food.com  Email sent successfully\n",
      "mime4421@gmail.com  Email sent successfully\n",
      "takon@thailuxe.com  Email sent successfully\n",
      "5645icezii@gmail.com  Email sent successfully\n",
      "juckgrich.p@thaibev.com  Email sent successfully\n",
      "pammkit@gmail.com  Email sent successfully\n",
      "thanetsaks@betagro.com  Email sent successfully\n",
      "sayomphoo.ke@thainamthip.co.th  Email sent successfully\n",
      "kongssup@scg.com  Email sent successfully\n",
      "thanawin.jar@cpf.co.th  Email sent successfully\n",
      "r_pitchayot@marugo-rubber.co.th  Email sent successfully\n",
      "pre@songkhlabiomass.co.th  Email sent successfully\n",
      "envswf@gmail.com  Email sent successfully\n",
      "songyot@greenspot.co.th  Email sent successfully\n",
      "engineer.sugarcane@gmail.com  Email sent successfully\n",
      "chawalit_jearanan@ajinomoto.com  Email sent successfully\n",
      "winanusorn@gmail.com  Email sent successfully\n",
      "eng_asiatic@asiatic.co.th  Email sent successfully\n",
      "energy@fpiautoparts.com  Email sent successfully\n",
      "chaowalit.p@dpo.go.th  Email sent successfully\n",
      "umkmitl39@hotmail.com  Email sent successfully\n",
      "dutsadee@ampawacoconutmilk.com  Email sent successfully\n",
      "thepma46@hotmail.com  Email sent successfully\n",
      "songponi@scg.com  Email sent successfully\n",
      "bank190@hotmail.com  Email sent successfully\n",
      "akaradech1974@gmail.com  Email sent successfully\n",
      "piyapoom.p@thaiagroenergy.com  Email sent successfully\n",
      "environment@pppgc.co.th  Email sent successfully\n",
      "weersunt@sermsukplc.com  Email sent successfully\n",
      "apichat.ker@thaisummit.co.th  Email sent successfully\n",
      "chamnan22@gmail.com  Email sent successfully\n",
      "thawan23bsi@gmail.com  Email sent successfully\n",
      "kumnuan@thaidairy.co.th  Email sent successfully\n",
      "mee_sittisak@hotmail.com  Email sent successfully\n",
      "jiraporn@unis.co.th  Email sent successfully\n",
      "safetycm2@cmfrozen.com  Email sent successfully\n",
      "chatchai.si@cpf.co.th  Email sent successfully\n",
      "kongpobs@betagro.com  Email sent successfully\n",
      "saravut.n@thaibev.com  Email sent successfully\n",
      "pradit@rscannery.com  Email sent successfully\n",
      "vinai.b@thaiwah.com  Email sent successfully\n",
      "thomakan.jeehill@thaiunion.com  Email sent successfully\n",
      "natthaphong@ichitangroup.com  Email sent successfully\n",
      "Ackarapon.p@premium-energycorp.com  Email sent successfully\n",
      "thongpanang@hotmail.com  Email sent successfully\n",
      "surasakhihi@gmail.com  Email sent successfully\n",
      "tharin.k@asm.co.th  Email sent successfully\n",
      "chutinun.j@thaiwah.com  Email sent successfully\n",
      "chare.p@pppgc.co.th  Email sent successfully\n",
      "tong.sutima@gmail.com  Email sent successfully\n",
      "thanchum@gmail.com  Email sent successfully\n",
      "pattawee.p@thaibev.com  Email sent successfully\n"
     ]
    }
   ],
   "source": [
    "for email in emails:\n",
    "  try:\n",
    "    cancel_link=cancel_sub+email\n",
    "    yag.send(to=email, subject=sub, contents=[begin_con,body_pic,end_con,cancel_link])\n",
    "    print(email,\" Email sent successfully\")\n",
    "  except:\n",
    "    print(email,\" Error, email was not sent\")"
   ]
  }
 ],
 "metadata": {
  "colab": {
   "name": "CRM_apologizeEmail.ipynb",
   "provenance": []
  },
  "kernelspec": {
   "display_name": "Python 3",
   "language": "python",
   "name": "python3"
  },
  "language_info": {
   "codemirror_mode": {
    "name": "ipython",
    "version": 3
   },
   "file_extension": ".py",
   "mimetype": "text/x-python",
   "name": "python",
   "nbconvert_exporter": "python",
   "pygments_lexer": "ipython3",
   "version": "3.8.5"
  }
 },
 "nbformat": 4,
 "nbformat_minor": 4
}
